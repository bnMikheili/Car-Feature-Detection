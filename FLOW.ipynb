{
 "cells": [
  {
   "cell_type": "code",
   "execution_count": 1,
   "metadata": {},
   "outputs": [],
   "source": [
    "import pandas as pd\n",
    "\n",
    "DATA_PATH = '/home/misho/Uni/Vision/YOLO/keras-YOLOv3-model-set/Myauto_data/Car_Images/'\n",
    "CSV_PATH = '/home/misho/Uni/Vision/YOLO/keras-YOLOv3-model-set/Myauto_data/MyAuto_ge_Cars_Data.csv'"
   ]
  },
  {
   "cell_type": "markdown",
   "metadata": {},
   "source": [
    "## Read dataset csv file and drop useless features"
   ]
  },
  {
   "cell_type": "code",
   "execution_count": 2,
   "metadata": {},
   "outputs": [
    {
     "name": "stdout",
     "output_type": "stream",
     "text": [
      "Data shape: (80577, 20)\n"
     ]
    },
    {
     "data": {
      "text/html": [
       "<div>\n",
       "<style scoped>\n",
       "    .dataframe tbody tr th:only-of-type {\n",
       "        vertical-align: middle;\n",
       "    }\n",
       "\n",
       "    .dataframe tbody tr th {\n",
       "        vertical-align: top;\n",
       "    }\n",
       "\n",
       "    .dataframe thead th {\n",
       "        text-align: right;\n",
       "    }\n",
       "</style>\n",
       "<table border=\"1\" class=\"dataframe\">\n",
       "  <thead>\n",
       "    <tr style=\"text-align: right;\">\n",
       "      <th></th>\n",
       "      <th>ID</th>\n",
       "      <th>Price ($)</th>\n",
       "      <th>Levy ($)</th>\n",
       "      <th>Manufacturer</th>\n",
       "      <th>Model</th>\n",
       "      <th>Prod. year</th>\n",
       "      <th>Category</th>\n",
       "      <th>Leather interior</th>\n",
       "      <th>Fuel type</th>\n",
       "      <th>Engine volume</th>\n",
       "      <th>Mileage</th>\n",
       "      <th>Cylinders</th>\n",
       "      <th>Gear box type</th>\n",
       "      <th>Drive wheels</th>\n",
       "      <th>Doors</th>\n",
       "      <th>Wheel</th>\n",
       "      <th>Color</th>\n",
       "      <th>Interior color</th>\n",
       "      <th>Airbags</th>\n",
       "      <th>VIN</th>\n",
       "    </tr>\n",
       "  </thead>\n",
       "  <tbody>\n",
       "    <tr>\n",
       "      <th>0</th>\n",
       "      <td>45568273</td>\n",
       "      <td>11,447</td>\n",
       "      <td>501</td>\n",
       "      <td>HONDA</td>\n",
       "      <td>FIT</td>\n",
       "      <td>2014</td>\n",
       "      <td>Hatchback</td>\n",
       "      <td>No</td>\n",
       "      <td>Petrol</td>\n",
       "      <td>1.5</td>\n",
       "      <td>80000 km</td>\n",
       "      <td>4.0</td>\n",
       "      <td>Manual</td>\n",
       "      <td>Front</td>\n",
       "      <td>4/5</td>\n",
       "      <td>Left wheel</td>\n",
       "      <td>Grey</td>\n",
       "      <td>Black</td>\n",
       "      <td>4</td>\n",
       "      <td>NaN</td>\n",
       "    </tr>\n",
       "    <tr>\n",
       "      <th>1</th>\n",
       "      <td>45789427</td>\n",
       "      <td>84,675</td>\n",
       "      <td>-</td>\n",
       "      <td>MERCEDES-BENZ</td>\n",
       "      <td>C 200 7G-TRONIC</td>\n",
       "      <td>2014</td>\n",
       "      <td>Sedan</td>\n",
       "      <td>Yes</td>\n",
       "      <td>Petrol</td>\n",
       "      <td>2.0 Turbo</td>\n",
       "      <td>66500 km</td>\n",
       "      <td>4.0</td>\n",
       "      <td>Tiptronic</td>\n",
       "      <td>Rear</td>\n",
       "      <td>4/5</td>\n",
       "      <td>Left wheel</td>\n",
       "      <td>White</td>\n",
       "      <td>Black</td>\n",
       "      <td>12</td>\n",
       "      <td>NaN</td>\n",
       "    </tr>\n",
       "    <tr>\n",
       "      <th>2</th>\n",
       "      <td>45747002</td>\n",
       "      <td>141,124</td>\n",
       "      <td>-</td>\n",
       "      <td>LAND ROVER</td>\n",
       "      <td>Land Rover Sport</td>\n",
       "      <td>2015</td>\n",
       "      <td>Jeep</td>\n",
       "      <td>Yes</td>\n",
       "      <td>Diesel</td>\n",
       "      <td>3.0 Turbo</td>\n",
       "      <td>90000 km</td>\n",
       "      <td>6.0</td>\n",
       "      <td>Tiptronic</td>\n",
       "      <td>4x4</td>\n",
       "      <td>4/5</td>\n",
       "      <td>Left wheel</td>\n",
       "      <td>Black</td>\n",
       "      <td>Red</td>\n",
       "      <td>12</td>\n",
       "      <td>NaN</td>\n",
       "    </tr>\n",
       "    <tr>\n",
       "      <th>3</th>\n",
       "      <td>45786808</td>\n",
       "      <td>219,527</td>\n",
       "      <td>-</td>\n",
       "      <td>BENTLEY</td>\n",
       "      <td>Continental GT</td>\n",
       "      <td>2012</td>\n",
       "      <td>Coupe</td>\n",
       "      <td>Yes</td>\n",
       "      <td>Petrol</td>\n",
       "      <td>4.0 Turbo</td>\n",
       "      <td>55500 km</td>\n",
       "      <td>8.0</td>\n",
       "      <td>Tiptronic</td>\n",
       "      <td>4x4</td>\n",
       "      <td>2/3</td>\n",
       "      <td>Left wheel</td>\n",
       "      <td>Black</td>\n",
       "      <td>Black</td>\n",
       "      <td>0</td>\n",
       "      <td>NaN</td>\n",
       "    </tr>\n",
       "    <tr>\n",
       "      <th>4</th>\n",
       "      <td>45816460</td>\n",
       "      <td>30,000</td>\n",
       "      <td>-</td>\n",
       "      <td>BMW</td>\n",
       "      <td>328 F30</td>\n",
       "      <td>2012</td>\n",
       "      <td>Sedan</td>\n",
       "      <td>Yes</td>\n",
       "      <td>Petrol</td>\n",
       "      <td>2.0 Turbo</td>\n",
       "      <td>197000 km</td>\n",
       "      <td>4.0</td>\n",
       "      <td>Tiptronic</td>\n",
       "      <td>Rear</td>\n",
       "      <td>4/5</td>\n",
       "      <td>Left wheel</td>\n",
       "      <td>Black</td>\n",
       "      <td>Black</td>\n",
       "      <td>10</td>\n",
       "      <td>WBA3A5C50CF256782</td>\n",
       "    </tr>\n",
       "  </tbody>\n",
       "</table>\n",
       "</div>"
      ],
      "text/plain": [
       "         ID Price ($) Levy ($)   Manufacturer             Model  Prod. year  \\\n",
       "0  45568273    11,447      501          HONDA               FIT        2014   \n",
       "1  45789427    84,675        -  MERCEDES-BENZ   C 200 7G-TRONIC        2014   \n",
       "2  45747002   141,124        -     LAND ROVER  Land Rover Sport        2015   \n",
       "3  45786808   219,527        -        BENTLEY    Continental GT        2012   \n",
       "4  45816460    30,000        -            BMW           328 F30        2012   \n",
       "\n",
       "    Category Leather interior Fuel type Engine volume    Mileage  Cylinders  \\\n",
       "0  Hatchback               No    Petrol           1.5   80000 km        4.0   \n",
       "1      Sedan              Yes    Petrol     2.0 Turbo   66500 km        4.0   \n",
       "2       Jeep              Yes    Diesel     3.0 Turbo   90000 km        6.0   \n",
       "3      Coupe              Yes    Petrol     4.0 Turbo   55500 km        8.0   \n",
       "4      Sedan              Yes    Petrol     2.0 Turbo  197000 km        4.0   \n",
       "\n",
       "  Gear box type Drive wheels Doors       Wheel  Color Interior color  Airbags  \\\n",
       "0        Manual        Front   4/5  Left wheel   Grey          Black        4   \n",
       "1     Tiptronic         Rear   4/5  Left wheel  White          Black       12   \n",
       "2     Tiptronic          4x4   4/5  Left wheel  Black            Red       12   \n",
       "3     Tiptronic          4x4   2/3  Left wheel  Black          Black        0   \n",
       "4     Tiptronic         Rear   4/5  Left wheel  Black          Black       10   \n",
       "\n",
       "                 VIN  \n",
       "0                NaN  \n",
       "1                NaN  \n",
       "2                NaN  \n",
       "3                NaN  \n",
       "4  WBA3A5C50CF256782  "
      ]
     },
     "execution_count": 2,
     "metadata": {},
     "output_type": "execute_result"
    }
   ],
   "source": [
    "data = pd.read_csv(CSV_PATH)\n",
    "print('Data shape: {}'.format(data.shape))\n",
    "data.head()"
   ]
  },
  {
   "cell_type": "code",
   "execution_count": 3,
   "metadata": {},
   "outputs": [],
   "source": [
    "data = data[['ID', 'Doors', 'Color', 'Category']]"
   ]
  },
  {
   "cell_type": "code",
   "execution_count": 4,
   "metadata": {
    "scrolled": true
   },
   "outputs": [
    {
     "data": {
      "text/html": [
       "<div>\n",
       "<style scoped>\n",
       "    .dataframe tbody tr th:only-of-type {\n",
       "        vertical-align: middle;\n",
       "    }\n",
       "\n",
       "    .dataframe tbody tr th {\n",
       "        vertical-align: top;\n",
       "    }\n",
       "\n",
       "    .dataframe thead th {\n",
       "        text-align: right;\n",
       "    }\n",
       "</style>\n",
       "<table border=\"1\" class=\"dataframe\">\n",
       "  <thead>\n",
       "    <tr style=\"text-align: right;\">\n",
       "      <th></th>\n",
       "      <th>ID</th>\n",
       "      <th>Doors</th>\n",
       "      <th>Color</th>\n",
       "      <th>Category</th>\n",
       "    </tr>\n",
       "  </thead>\n",
       "  <tbody>\n",
       "    <tr>\n",
       "      <th>0</th>\n",
       "      <td>45568273</td>\n",
       "      <td>4/5</td>\n",
       "      <td>Grey</td>\n",
       "      <td>Hatchback</td>\n",
       "    </tr>\n",
       "    <tr>\n",
       "      <th>1</th>\n",
       "      <td>45789427</td>\n",
       "      <td>4/5</td>\n",
       "      <td>White</td>\n",
       "      <td>Sedan</td>\n",
       "    </tr>\n",
       "    <tr>\n",
       "      <th>2</th>\n",
       "      <td>45747002</td>\n",
       "      <td>4/5</td>\n",
       "      <td>Black</td>\n",
       "      <td>Jeep</td>\n",
       "    </tr>\n",
       "    <tr>\n",
       "      <th>3</th>\n",
       "      <td>45786808</td>\n",
       "      <td>2/3</td>\n",
       "      <td>Black</td>\n",
       "      <td>Coupe</td>\n",
       "    </tr>\n",
       "    <tr>\n",
       "      <th>4</th>\n",
       "      <td>45816460</td>\n",
       "      <td>4/5</td>\n",
       "      <td>Black</td>\n",
       "      <td>Sedan</td>\n",
       "    </tr>\n",
       "  </tbody>\n",
       "</table>\n",
       "</div>"
      ],
      "text/plain": [
       "         ID Doors  Color   Category\n",
       "0  45568273   4/5   Grey  Hatchback\n",
       "1  45789427   4/5  White      Sedan\n",
       "2  45747002   4/5  Black       Jeep\n",
       "3  45786808   2/3  Black      Coupe\n",
       "4  45816460   4/5  Black      Sedan"
      ]
     },
     "execution_count": 4,
     "metadata": {},
     "output_type": "execute_result"
    }
   ],
   "source": [
    "data.head()"
   ]
  },
  {
   "cell_type": "markdown",
   "metadata": {},
   "source": [
    "Keep test data separately"
   ]
  },
  {
   "cell_type": "code",
   "execution_count": 5,
   "metadata": {},
   "outputs": [
    {
     "name": "stdout",
     "output_type": "stream",
     "text": [
      "Data size: 80577\n",
      "Train data size: 60000\n"
     ]
    }
   ],
   "source": [
    "print('Data size: {}'.format(len(data)))\n",
    "data[60000:].to_csv('test_data.csv', index=False)\n",
    "data = data[:60000]\n",
    "print('Train data size: {}'.format(len(data)))"
   ]
  },
  {
   "cell_type": "markdown",
   "metadata": {},
   "source": [
    "## Get car images for each car ID\n",
    "\n",
    "for each ID get car containing image numbers, alongside drop IDs that don't have images at all"
   ]
  },
  {
   "cell_type": "code",
   "execution_count": 6,
   "metadata": {},
   "outputs": [],
   "source": [
    "from preprocess.detect_car import car_image\n",
    "from preprocess import generate "
   ]
  },
  {
   "cell_type": "code",
   "execution_count": 7,
   "metadata": {},
   "outputs": [],
   "source": [
    "car_images = generate.get_car_images(data)"
   ]
  },
  {
   "cell_type": "code",
   "execution_count": 8,
   "metadata": {},
   "outputs": [
    {
     "data": {
      "text/html": [
       "<div>\n",
       "<style scoped>\n",
       "    .dataframe tbody tr th:only-of-type {\n",
       "        vertical-align: middle;\n",
       "    }\n",
       "\n",
       "    .dataframe tbody tr th {\n",
       "        vertical-align: top;\n",
       "    }\n",
       "\n",
       "    .dataframe thead th {\n",
       "        text-align: right;\n",
       "    }\n",
       "</style>\n",
       "<table border=\"1\" class=\"dataframe\">\n",
       "  <thead>\n",
       "    <tr style=\"text-align: right;\">\n",
       "      <th></th>\n",
       "      <th>ID</th>\n",
       "      <th>images</th>\n",
       "    </tr>\n",
       "  </thead>\n",
       "  <tbody>\n",
       "    <tr>\n",
       "      <th>0</th>\n",
       "      <td>45568273.0</td>\n",
       "      <td>15_4_1_2_3_5_11</td>\n",
       "    </tr>\n",
       "    <tr>\n",
       "      <th>1</th>\n",
       "      <td>45789427.0</td>\n",
       "      <td>4_1_6_2_3_5</td>\n",
       "    </tr>\n",
       "    <tr>\n",
       "      <th>2</th>\n",
       "      <td>45747002.0</td>\n",
       "      <td>8_4_1_2_3</td>\n",
       "    </tr>\n",
       "    <tr>\n",
       "      <th>3</th>\n",
       "      <td>45786808.0</td>\n",
       "      <td>8_4_1_2_7</td>\n",
       "    </tr>\n",
       "    <tr>\n",
       "      <th>4</th>\n",
       "      <td>45816460.0</td>\n",
       "      <td>8_4_1_6_2_3_7</td>\n",
       "    </tr>\n",
       "  </tbody>\n",
       "</table>\n",
       "</div>"
      ],
      "text/plain": [
       "           ID           images\n",
       "0  45568273.0  15_4_1_2_3_5_11\n",
       "1  45789427.0      4_1_6_2_3_5\n",
       "2  45747002.0        8_4_1_2_3\n",
       "3  45786808.0        8_4_1_2_7\n",
       "4  45816460.0    8_4_1_6_2_3_7"
      ]
     },
     "execution_count": 8,
     "metadata": {},
     "output_type": "execute_result"
    }
   ],
   "source": [
    "car_images.head()"
   ]
  },
  {
   "cell_type": "markdown",
   "metadata": {},
   "source": [
    "### Merge car features and car images"
   ]
  },
  {
   "cell_type": "code",
   "execution_count": 9,
   "metadata": {},
   "outputs": [],
   "source": [
    "data = generate.merge_car_features_and_car_images(data, car_images)"
   ]
  },
  {
   "cell_type": "code",
   "execution_count": 10,
   "metadata": {
    "scrolled": true
   },
   "outputs": [
    {
     "name": "stdout",
     "output_type": "stream",
     "text": [
      "Train data size: 58936\n"
     ]
    },
    {
     "data": {
      "text/html": [
       "<div>\n",
       "<style scoped>\n",
       "    .dataframe tbody tr th:only-of-type {\n",
       "        vertical-align: middle;\n",
       "    }\n",
       "\n",
       "    .dataframe tbody tr th {\n",
       "        vertical-align: top;\n",
       "    }\n",
       "\n",
       "    .dataframe thead th {\n",
       "        text-align: right;\n",
       "    }\n",
       "</style>\n",
       "<table border=\"1\" class=\"dataframe\">\n",
       "  <thead>\n",
       "    <tr style=\"text-align: right;\">\n",
       "      <th></th>\n",
       "      <th>ID</th>\n",
       "      <th>Doors</th>\n",
       "      <th>Color</th>\n",
       "      <th>Category</th>\n",
       "      <th>images</th>\n",
       "    </tr>\n",
       "  </thead>\n",
       "  <tbody>\n",
       "    <tr>\n",
       "      <th>0</th>\n",
       "      <td>45568273</td>\n",
       "      <td>4/5</td>\n",
       "      <td>Grey</td>\n",
       "      <td>Hatchback</td>\n",
       "      <td>15_4_1_2_3_5_11</td>\n",
       "    </tr>\n",
       "    <tr>\n",
       "      <th>1</th>\n",
       "      <td>45789427</td>\n",
       "      <td>4/5</td>\n",
       "      <td>White</td>\n",
       "      <td>Sedan</td>\n",
       "      <td>4_1_6_2_3_5</td>\n",
       "    </tr>\n",
       "    <tr>\n",
       "      <th>2</th>\n",
       "      <td>45747002</td>\n",
       "      <td>4/5</td>\n",
       "      <td>Black</td>\n",
       "      <td>Jeep</td>\n",
       "      <td>8_4_1_2_3</td>\n",
       "    </tr>\n",
       "    <tr>\n",
       "      <th>3</th>\n",
       "      <td>45786808</td>\n",
       "      <td>2/3</td>\n",
       "      <td>Black</td>\n",
       "      <td>Coupe</td>\n",
       "      <td>8_4_1_2_7</td>\n",
       "    </tr>\n",
       "    <tr>\n",
       "      <th>4</th>\n",
       "      <td>45816460</td>\n",
       "      <td>4/5</td>\n",
       "      <td>Black</td>\n",
       "      <td>Sedan</td>\n",
       "      <td>8_4_1_6_2_3_7</td>\n",
       "    </tr>\n",
       "  </tbody>\n",
       "</table>\n",
       "</div>"
      ],
      "text/plain": [
       "         ID Doors  Color   Category           images\n",
       "0  45568273   4/5   Grey  Hatchback  15_4_1_2_3_5_11\n",
       "1  45789427   4/5  White      Sedan      4_1_6_2_3_5\n",
       "2  45747002   4/5  Black       Jeep        8_4_1_2_3\n",
       "3  45786808   2/3  Black      Coupe        8_4_1_2_7\n",
       "4  45816460   4/5  Black      Sedan    8_4_1_6_2_3_7"
      ]
     },
     "execution_count": 10,
     "metadata": {},
     "output_type": "execute_result"
    }
   ],
   "source": [
    "print('Train data size: {}'.format(len(data)))\n",
    "data.head()"
   ]
  },
  {
   "cell_type": "markdown",
   "metadata": {},
   "source": [
    "## Generate image oriented data for model training"
   ]
  },
  {
   "cell_type": "code",
   "execution_count": 11,
   "metadata": {},
   "outputs": [],
   "source": [
    "data = generate.generate_image_oriented_dataset(data)"
   ]
  },
  {
   "cell_type": "code",
   "execution_count": 12,
   "metadata": {},
   "outputs": [
    {
     "name": "stdout",
     "output_type": "stream",
     "text": [
      "Train data size: 533516\n"
     ]
    },
    {
     "data": {
      "text/html": [
       "<div>\n",
       "<style scoped>\n",
       "    .dataframe tbody tr th:only-of-type {\n",
       "        vertical-align: middle;\n",
       "    }\n",
       "\n",
       "    .dataframe tbody tr th {\n",
       "        vertical-align: top;\n",
       "    }\n",
       "\n",
       "    .dataframe thead th {\n",
       "        text-align: right;\n",
       "    }\n",
       "</style>\n",
       "<table border=\"1\" class=\"dataframe\">\n",
       "  <thead>\n",
       "    <tr style=\"text-align: right;\">\n",
       "      <th></th>\n",
       "      <th>ID</th>\n",
       "      <th>Category</th>\n",
       "      <th>Doors</th>\n",
       "      <th>Color</th>\n",
       "      <th>img_index</th>\n",
       "      <th>is_car</th>\n",
       "    </tr>\n",
       "  </thead>\n",
       "  <tbody>\n",
       "    <tr>\n",
       "      <th>0</th>\n",
       "      <td>45568273</td>\n",
       "      <td>Hatchback</td>\n",
       "      <td>4/5</td>\n",
       "      <td>Grey</td>\n",
       "      <td>1</td>\n",
       "      <td>1</td>\n",
       "    </tr>\n",
       "    <tr>\n",
       "      <th>1</th>\n",
       "      <td>45568273</td>\n",
       "      <td>Hatchback</td>\n",
       "      <td>4/5</td>\n",
       "      <td>Grey</td>\n",
       "      <td>2</td>\n",
       "      <td>1</td>\n",
       "    </tr>\n",
       "    <tr>\n",
       "      <th>2</th>\n",
       "      <td>45568273</td>\n",
       "      <td>Hatchback</td>\n",
       "      <td>4/5</td>\n",
       "      <td>Grey</td>\n",
       "      <td>3</td>\n",
       "      <td>1</td>\n",
       "    </tr>\n",
       "    <tr>\n",
       "      <th>3</th>\n",
       "      <td>45568273</td>\n",
       "      <td>Hatchback</td>\n",
       "      <td>4/5</td>\n",
       "      <td>Grey</td>\n",
       "      <td>4</td>\n",
       "      <td>1</td>\n",
       "    </tr>\n",
       "    <tr>\n",
       "      <th>4</th>\n",
       "      <td>45568273</td>\n",
       "      <td>Hatchback</td>\n",
       "      <td>4/5</td>\n",
       "      <td>Grey</td>\n",
       "      <td>5</td>\n",
       "      <td>1</td>\n",
       "    </tr>\n",
       "  </tbody>\n",
       "</table>\n",
       "</div>"
      ],
      "text/plain": [
       "         ID   Category Doors Color img_index is_car\n",
       "0  45568273  Hatchback   4/5  Grey         1      1\n",
       "1  45568273  Hatchback   4/5  Grey         2      1\n",
       "2  45568273  Hatchback   4/5  Grey         3      1\n",
       "3  45568273  Hatchback   4/5  Grey         4      1\n",
       "4  45568273  Hatchback   4/5  Grey         5      1"
      ]
     },
     "execution_count": 12,
     "metadata": {},
     "output_type": "execute_result"
    }
   ],
   "source": [
    "print('Train data size: {}'.format(len(data)))\n",
    "data.head()"
   ]
  },
  {
   "cell_type": "markdown",
   "metadata": {},
   "source": [
    "Shuffle the dataset"
   ]
  },
  {
   "cell_type": "code",
   "execution_count": 13,
   "metadata": {},
   "outputs": [
    {
     "data": {
      "text/html": [
       "<div>\n",
       "<style scoped>\n",
       "    .dataframe tbody tr th:only-of-type {\n",
       "        vertical-align: middle;\n",
       "    }\n",
       "\n",
       "    .dataframe tbody tr th {\n",
       "        vertical-align: top;\n",
       "    }\n",
       "\n",
       "    .dataframe thead th {\n",
       "        text-align: right;\n",
       "    }\n",
       "</style>\n",
       "<table border=\"1\" class=\"dataframe\">\n",
       "  <thead>\n",
       "    <tr style=\"text-align: right;\">\n",
       "      <th></th>\n",
       "      <th>ID</th>\n",
       "      <th>Category</th>\n",
       "      <th>Doors</th>\n",
       "      <th>Color</th>\n",
       "      <th>img_index</th>\n",
       "      <th>is_car</th>\n",
       "    </tr>\n",
       "  </thead>\n",
       "  <tbody>\n",
       "    <tr>\n",
       "      <th>16115</th>\n",
       "      <td>45815626</td>\n",
       "      <td>Sedan</td>\n",
       "      <td>4/5</td>\n",
       "      <td>Black</td>\n",
       "      <td>10</td>\n",
       "      <td>0</td>\n",
       "    </tr>\n",
       "    <tr>\n",
       "      <th>149176</th>\n",
       "      <td>45805062</td>\n",
       "      <td>Jeep</td>\n",
       "      <td>4/5</td>\n",
       "      <td>Blue</td>\n",
       "      <td>6</td>\n",
       "      <td>1</td>\n",
       "    </tr>\n",
       "    <tr>\n",
       "      <th>57962</th>\n",
       "      <td>45790113</td>\n",
       "      <td>Sedan</td>\n",
       "      <td>4/5</td>\n",
       "      <td>Grey</td>\n",
       "      <td>1</td>\n",
       "      <td>1</td>\n",
       "    </tr>\n",
       "    <tr>\n",
       "      <th>502041</th>\n",
       "      <td>45632617</td>\n",
       "      <td>Sedan</td>\n",
       "      <td>4/5</td>\n",
       "      <td>Black</td>\n",
       "      <td>7</td>\n",
       "      <td>0</td>\n",
       "    </tr>\n",
       "    <tr>\n",
       "      <th>249624</th>\n",
       "      <td>45791612</td>\n",
       "      <td>Jeep</td>\n",
       "      <td>4/5</td>\n",
       "      <td>Grey</td>\n",
       "      <td>2</td>\n",
       "      <td>0</td>\n",
       "    </tr>\n",
       "  </tbody>\n",
       "</table>\n",
       "</div>"
      ],
      "text/plain": [
       "              ID Category Doors  Color img_index is_car\n",
       "16115   45815626    Sedan   4/5  Black        10      0\n",
       "149176  45805062     Jeep   4/5   Blue         6      1\n",
       "57962   45790113    Sedan   4/5   Grey         1      1\n",
       "502041  45632617    Sedan   4/5  Black         7      0\n",
       "249624  45791612     Jeep   4/5   Grey         2      0"
      ]
     },
     "execution_count": 13,
     "metadata": {},
     "output_type": "execute_result"
    }
   ],
   "source": [
    "data = data.sample(frac=1)\n",
    "data.head()"
   ]
  },
  {
   "cell_type": "markdown",
   "metadata": {},
   "source": [
    "## Keep only the car images for our tasks"
   ]
  },
  {
   "cell_type": "code",
   "execution_count": 14,
   "metadata": {},
   "outputs": [],
   "source": [
    "data = data[data.is_car == '1']\n",
    "data.drop(['is_car'], axis=1, inplace=True)"
   ]
  },
  {
   "cell_type": "code",
   "execution_count": 15,
   "metadata": {},
   "outputs": [
    {
     "name": "stdout",
     "output_type": "stream",
     "text": [
      "Train data size: 213575\n"
     ]
    },
    {
     "data": {
      "text/html": [
       "<div>\n",
       "<style scoped>\n",
       "    .dataframe tbody tr th:only-of-type {\n",
       "        vertical-align: middle;\n",
       "    }\n",
       "\n",
       "    .dataframe tbody tr th {\n",
       "        vertical-align: top;\n",
       "    }\n",
       "\n",
       "    .dataframe thead th {\n",
       "        text-align: right;\n",
       "    }\n",
       "</style>\n",
       "<table border=\"1\" class=\"dataframe\">\n",
       "  <thead>\n",
       "    <tr style=\"text-align: right;\">\n",
       "      <th></th>\n",
       "      <th>ID</th>\n",
       "      <th>Category</th>\n",
       "      <th>Doors</th>\n",
       "      <th>Color</th>\n",
       "      <th>img_index</th>\n",
       "    </tr>\n",
       "  </thead>\n",
       "  <tbody>\n",
       "    <tr>\n",
       "      <th>149176</th>\n",
       "      <td>45805062</td>\n",
       "      <td>Jeep</td>\n",
       "      <td>4/5</td>\n",
       "      <td>Blue</td>\n",
       "      <td>6</td>\n",
       "    </tr>\n",
       "    <tr>\n",
       "      <th>57962</th>\n",
       "      <td>45790113</td>\n",
       "      <td>Sedan</td>\n",
       "      <td>4/5</td>\n",
       "      <td>Grey</td>\n",
       "      <td>1</td>\n",
       "    </tr>\n",
       "    <tr>\n",
       "      <th>536</th>\n",
       "      <td>45612049</td>\n",
       "      <td>Jeep</td>\n",
       "      <td>4/5</td>\n",
       "      <td>Grey</td>\n",
       "      <td>1</td>\n",
       "    </tr>\n",
       "    <tr>\n",
       "      <th>440420</th>\n",
       "      <td>45759340</td>\n",
       "      <td>Hatchback</td>\n",
       "      <td>4/5</td>\n",
       "      <td>Grey</td>\n",
       "      <td>9</td>\n",
       "    </tr>\n",
       "    <tr>\n",
       "      <th>519156</th>\n",
       "      <td>45659003</td>\n",
       "      <td>Hatchback</td>\n",
       "      <td>4/5</td>\n",
       "      <td>White</td>\n",
       "      <td>3</td>\n",
       "    </tr>\n",
       "  </tbody>\n",
       "</table>\n",
       "</div>"
      ],
      "text/plain": [
       "              ID   Category Doors  Color img_index\n",
       "149176  45805062       Jeep   4/5   Blue         6\n",
       "57962   45790113      Sedan   4/5   Grey         1\n",
       "536     45612049       Jeep   4/5   Grey         1\n",
       "440420  45759340  Hatchback   4/5   Grey         9\n",
       "519156  45659003  Hatchback   4/5  White         3"
      ]
     },
     "execution_count": 15,
     "metadata": {},
     "output_type": "execute_result"
    }
   ],
   "source": [
    "print('Train data size: {}'.format(len(data)))\n",
    "data.head()"
   ]
  },
  {
   "cell_type": "markdown",
   "metadata": {},
   "source": [
    "# Generate data for category prediction\n",
    "Remove useless columns"
   ]
  },
  {
   "cell_type": "code",
   "execution_count": 16,
   "metadata": {},
   "outputs": [
    {
     "data": {
      "text/html": [
       "<div>\n",
       "<style scoped>\n",
       "    .dataframe tbody tr th:only-of-type {\n",
       "        vertical-align: middle;\n",
       "    }\n",
       "\n",
       "    .dataframe tbody tr th {\n",
       "        vertical-align: top;\n",
       "    }\n",
       "\n",
       "    .dataframe thead th {\n",
       "        text-align: right;\n",
       "    }\n",
       "</style>\n",
       "<table border=\"1\" class=\"dataframe\">\n",
       "  <thead>\n",
       "    <tr style=\"text-align: right;\">\n",
       "      <th></th>\n",
       "      <th>ID</th>\n",
       "      <th>Category</th>\n",
       "      <th>img_index</th>\n",
       "    </tr>\n",
       "  </thead>\n",
       "  <tbody>\n",
       "    <tr>\n",
       "      <th>149176</th>\n",
       "      <td>45805062</td>\n",
       "      <td>Jeep</td>\n",
       "      <td>6</td>\n",
       "    </tr>\n",
       "    <tr>\n",
       "      <th>57962</th>\n",
       "      <td>45790113</td>\n",
       "      <td>Sedan</td>\n",
       "      <td>1</td>\n",
       "    </tr>\n",
       "    <tr>\n",
       "      <th>536</th>\n",
       "      <td>45612049</td>\n",
       "      <td>Jeep</td>\n",
       "      <td>1</td>\n",
       "    </tr>\n",
       "    <tr>\n",
       "      <th>440420</th>\n",
       "      <td>45759340</td>\n",
       "      <td>Hatchback</td>\n",
       "      <td>9</td>\n",
       "    </tr>\n",
       "    <tr>\n",
       "      <th>519156</th>\n",
       "      <td>45659003</td>\n",
       "      <td>Hatchback</td>\n",
       "      <td>3</td>\n",
       "    </tr>\n",
       "  </tbody>\n",
       "</table>\n",
       "</div>"
      ],
      "text/plain": [
       "              ID   Category img_index\n",
       "149176  45805062       Jeep         6\n",
       "57962   45790113      Sedan         1\n",
       "536     45612049       Jeep         1\n",
       "440420  45759340  Hatchback         9\n",
       "519156  45659003  Hatchback         3"
      ]
     },
     "execution_count": 16,
     "metadata": {},
     "output_type": "execute_result"
    }
   ],
   "source": [
    "category_data = data.drop(['Doors', 'Color'], axis=1)\n",
    "category_data.head()"
   ]
  },
  {
   "cell_type": "code",
   "execution_count": 17,
   "metadata": {},
   "outputs": [
    {
     "name": "stdout",
     "output_type": "stream",
     "text": [
      "Jeep: 77720, percentage: 36\n",
      "Sedan: 93394, percentage: 43\n",
      "Hatchback: 27827, percentage: 13\n",
      "Goods wagon: 946, percentage: 0\n",
      "Minivan: 4039, percentage: 1\n",
      "Coupe: 6047, percentage: 2\n",
      "Universal: 2067, percentage: 0\n",
      "Microbus: 685, percentage: 0\n",
      "Pickup: 342, percentage: 0\n",
      "Cabriolet: 464, percentage: 0\n",
      "Limousine: 44, percentage: 0\n"
     ]
    }
   ],
   "source": [
    "for col in category_data.Category.unique():\n",
    "    length = len(category_data[category_data.Category == col])\n",
    "    print('{}: {}, percentage: {}'.format(col, length, int(100*length/len(category_data))))"
   ]
  },
  {
   "cell_type": "markdown",
   "metadata": {},
   "source": [
    "Unite sets for Minivan/Microbus, Hatchback/Universal, Coupe/Cabriolet and drop Goods wagon, Pickup and Limousine as their image samples are to small and they aren't related to any of other categories"
   ]
  },
  {
   "cell_type": "code",
   "execution_count": 18,
   "metadata": {},
   "outputs": [],
   "source": [
    "def unite_categories(a):\n",
    "    if a in ['Minivan', 'Microbus']:\n",
    "        return 'Microbus'\n",
    "    if a in ['Hatchback', 'Universal']:\n",
    "        return 'Hatchback'\n",
    "    if a in ['Coupe', 'Cabriolet']:\n",
    "        return 'Coupe'\n",
    "    if a in ['Limousine', 'Pickup', 'Goods wagon']:\n",
    "        return 0\n",
    "    return a\n",
    "\n",
    "category_data.Category = category_data.Category.apply(unite_categories)\n",
    "category_data = category_data[category_data.Category != 0]"
   ]
  },
  {
   "cell_type": "code",
   "execution_count": 19,
   "metadata": {
    "scrolled": true
   },
   "outputs": [
    {
     "name": "stdout",
     "output_type": "stream",
     "text": [
      "Jeep: 77720, percentage: 36\n",
      "Sedan: 93394, percentage: 44\n",
      "Hatchback: 29894, percentage: 14\n",
      "Microbus: 4724, percentage: 2\n",
      "Coupe: 6511, percentage: 3\n"
     ]
    }
   ],
   "source": [
    "for col in category_data.Category.unique():\n",
    "    length = len(category_data[category_data.Category == col])\n",
    "    print('{}: {}, percentage: {}'.format(col, length, int(100*length/len(category_data))))"
   ]
  },
  {
   "cell_type": "markdown",
   "metadata": {},
   "source": [
    "Select balanced dataset for training"
   ]
  },
  {
   "cell_type": "code",
   "execution_count": 20,
   "metadata": {},
   "outputs": [],
   "source": [
    "cat_train = category_data[category_data.Category == 'Microbus']\n",
    "\n",
    "cat_train = pd.concat([cat_train, category_data[category_data.Category == 'Coupe']])\n",
    "\n",
    "cat_train = pd.concat([cat_train, category_data[category_data.Category == 'Hatchback'][:10000]])\n",
    "\n",
    "cat_train = pd.concat([cat_train, category_data[category_data.Category == 'Sedan'][:10000]])\n",
    "\n",
    "cat_train = pd.concat([cat_train, category_data[category_data.Category == 'Jeep'][:10000]])\n",
    "\n",
    "# Shuffle dataset\n",
    "cat_train = cat_train.sample(frac=1)"
   ]
  },
  {
   "cell_type": "code",
   "execution_count": 21,
   "metadata": {
    "scrolled": true
   },
   "outputs": [
    {
     "name": "stdout",
     "output_type": "stream",
     "text": [
      "Hatchback: 10000, percentage: 24%\n",
      "Microbus: 4724, percentage: 11%\n",
      "Jeep: 10000, percentage: 24%\n",
      "Coupe: 6511, percentage: 15%\n",
      "Sedan: 10000, percentage: 24%\n"
     ]
    }
   ],
   "source": [
    "for col in cat_train.Category.unique():\n",
    "    length = len(cat_train[cat_train.Category == col])\n",
    "    print('{}: {}, percentage: {}%'.format(col, length, int(100*length/len(cat_train))))"
   ]
  },
  {
   "cell_type": "markdown",
   "metadata": {},
   "source": [
    "Generate folder containing training images"
   ]
  },
  {
   "cell_type": "code",
   "execution_count": 22,
   "metadata": {},
   "outputs": [],
   "source": [
    "cat_train = generate.generate_training_folder(cat_train, 'category_train_41K')\n",
    "cat_train = cat_train[cat_train.success]\n",
    "cat_train.drop(['success'], axis=1, inplace=True)"
   ]
  },
  {
   "cell_type": "code",
   "execution_count": 23,
   "metadata": {},
   "outputs": [
    {
     "name": "stdout",
     "output_type": "stream",
     "text": [
      "lenght: 41098\n"
     ]
    },
    {
     "data": {
      "text/html": [
       "<div>\n",
       "<style scoped>\n",
       "    .dataframe tbody tr th:only-of-type {\n",
       "        vertical-align: middle;\n",
       "    }\n",
       "\n",
       "    .dataframe tbody tr th {\n",
       "        vertical-align: top;\n",
       "    }\n",
       "\n",
       "    .dataframe thead th {\n",
       "        text-align: right;\n",
       "    }\n",
       "</style>\n",
       "<table border=\"1\" class=\"dataframe\">\n",
       "  <thead>\n",
       "    <tr style=\"text-align: right;\">\n",
       "      <th></th>\n",
       "      <th>ID</th>\n",
       "      <th>Category</th>\n",
       "      <th>img_index</th>\n",
       "    </tr>\n",
       "  </thead>\n",
       "  <tbody>\n",
       "    <tr>\n",
       "      <th>78277</th>\n",
       "      <td>45809877</td>\n",
       "      <td>Hatchback</td>\n",
       "      <td>3</td>\n",
       "    </tr>\n",
       "    <tr>\n",
       "      <th>252729</th>\n",
       "      <td>45791267</td>\n",
       "      <td>Microbus</td>\n",
       "      <td>2</td>\n",
       "    </tr>\n",
       "    <tr>\n",
       "      <th>183834</th>\n",
       "      <td>45800188</td>\n",
       "      <td>Jeep</td>\n",
       "      <td>2</td>\n",
       "    </tr>\n",
       "    <tr>\n",
       "      <th>31056</th>\n",
       "      <td>45814466</td>\n",
       "      <td>Jeep</td>\n",
       "      <td>14</td>\n",
       "    </tr>\n",
       "    <tr>\n",
       "      <th>80189</th>\n",
       "      <td>45809670</td>\n",
       "      <td>Coupe</td>\n",
       "      <td>4</td>\n",
       "    </tr>\n",
       "  </tbody>\n",
       "</table>\n",
       "</div>"
      ],
      "text/plain": [
       "              ID   Category img_index\n",
       "78277   45809877  Hatchback         3\n",
       "252729  45791267   Microbus         2\n",
       "183834  45800188       Jeep         2\n",
       "31056   45814466       Jeep        14\n",
       "80189   45809670      Coupe         4"
      ]
     },
     "execution_count": 23,
     "metadata": {},
     "output_type": "execute_result"
    }
   ],
   "source": [
    "print('lenght: {}'.format(len(cat_train)))\n",
    "cat_train.head()"
   ]
  },
  {
   "cell_type": "markdown",
   "metadata": {},
   "source": [
    "Save dataframe to .csv file"
   ]
  },
  {
   "cell_type": "code",
   "execution_count": 24,
   "metadata": {},
   "outputs": [],
   "source": [
    "cat_train.to_csv('category_train_41K.csv', index=False)"
   ]
  },
  {
   "cell_type": "markdown",
   "metadata": {},
   "source": [
    "# Generate data for door number prediction\n",
    "Remove useless columns"
   ]
  },
  {
   "cell_type": "code",
   "execution_count": 25,
   "metadata": {},
   "outputs": [
    {
     "data": {
      "text/html": [
       "<div>\n",
       "<style scoped>\n",
       "    .dataframe tbody tr th:only-of-type {\n",
       "        vertical-align: middle;\n",
       "    }\n",
       "\n",
       "    .dataframe tbody tr th {\n",
       "        vertical-align: top;\n",
       "    }\n",
       "\n",
       "    .dataframe thead th {\n",
       "        text-align: right;\n",
       "    }\n",
       "</style>\n",
       "<table border=\"1\" class=\"dataframe\">\n",
       "  <thead>\n",
       "    <tr style=\"text-align: right;\">\n",
       "      <th></th>\n",
       "      <th>ID</th>\n",
       "      <th>Doors</th>\n",
       "      <th>img_index</th>\n",
       "    </tr>\n",
       "  </thead>\n",
       "  <tbody>\n",
       "    <tr>\n",
       "      <th>149176</th>\n",
       "      <td>45805062</td>\n",
       "      <td>4/5</td>\n",
       "      <td>6</td>\n",
       "    </tr>\n",
       "    <tr>\n",
       "      <th>57962</th>\n",
       "      <td>45790113</td>\n",
       "      <td>4/5</td>\n",
       "      <td>1</td>\n",
       "    </tr>\n",
       "    <tr>\n",
       "      <th>536</th>\n",
       "      <td>45612049</td>\n",
       "      <td>4/5</td>\n",
       "      <td>1</td>\n",
       "    </tr>\n",
       "    <tr>\n",
       "      <th>440420</th>\n",
       "      <td>45759340</td>\n",
       "      <td>4/5</td>\n",
       "      <td>9</td>\n",
       "    </tr>\n",
       "    <tr>\n",
       "      <th>519156</th>\n",
       "      <td>45659003</td>\n",
       "      <td>4/5</td>\n",
       "      <td>3</td>\n",
       "    </tr>\n",
       "  </tbody>\n",
       "</table>\n",
       "</div>"
      ],
      "text/plain": [
       "              ID Doors img_index\n",
       "149176  45805062   4/5         6\n",
       "57962   45790113   4/5         1\n",
       "536     45612049   4/5         1\n",
       "440420  45759340   4/5         9\n",
       "519156  45659003   4/5         3"
      ]
     },
     "execution_count": 25,
     "metadata": {},
     "output_type": "execute_result"
    }
   ],
   "source": [
    "door_data = data.drop(['Category', 'Color'], axis=1)\n",
    "door_data.head()"
   ]
  },
  {
   "cell_type": "code",
   "execution_count": 26,
   "metadata": {},
   "outputs": [
    {
     "name": "stdout",
     "output_type": "stream",
     "text": [
      "4/5: 202642, percentage: 94\n",
      "2/3: 6725, percentage: 3\n",
      "nan: 0, percentage: 0\n",
      ">5: 745, percentage: 0\n"
     ]
    }
   ],
   "source": [
    "for col in door_data.Doors.unique():\n",
    "    length = len(door_data[door_data.Doors == col])\n",
    "    print('{}: {}, percentage: {}'.format(col, length, int(100*length/len(door_data))))"
   ]
  },
  {
   "cell_type": "markdown",
   "metadata": {},
   "source": [
    "Drop '>5' and nan values"
   ]
  },
  {
   "cell_type": "code",
   "execution_count": 27,
   "metadata": {},
   "outputs": [],
   "source": [
    "door_data.dropna(inplace=True)\n",
    "door_data = door_data[door_data.Doors != '>5']"
   ]
  },
  {
   "cell_type": "code",
   "execution_count": 28,
   "metadata": {},
   "outputs": [
    {
     "name": "stdout",
     "output_type": "stream",
     "text": [
      "length: 209367\n"
     ]
    },
    {
     "data": {
      "text/html": [
       "<div>\n",
       "<style scoped>\n",
       "    .dataframe tbody tr th:only-of-type {\n",
       "        vertical-align: middle;\n",
       "    }\n",
       "\n",
       "    .dataframe tbody tr th {\n",
       "        vertical-align: top;\n",
       "    }\n",
       "\n",
       "    .dataframe thead th {\n",
       "        text-align: right;\n",
       "    }\n",
       "</style>\n",
       "<table border=\"1\" class=\"dataframe\">\n",
       "  <thead>\n",
       "    <tr style=\"text-align: right;\">\n",
       "      <th></th>\n",
       "      <th>ID</th>\n",
       "      <th>Doors</th>\n",
       "      <th>img_index</th>\n",
       "    </tr>\n",
       "  </thead>\n",
       "  <tbody>\n",
       "    <tr>\n",
       "      <th>149176</th>\n",
       "      <td>45805062</td>\n",
       "      <td>4/5</td>\n",
       "      <td>6</td>\n",
       "    </tr>\n",
       "    <tr>\n",
       "      <th>57962</th>\n",
       "      <td>45790113</td>\n",
       "      <td>4/5</td>\n",
       "      <td>1</td>\n",
       "    </tr>\n",
       "    <tr>\n",
       "      <th>536</th>\n",
       "      <td>45612049</td>\n",
       "      <td>4/5</td>\n",
       "      <td>1</td>\n",
       "    </tr>\n",
       "    <tr>\n",
       "      <th>440420</th>\n",
       "      <td>45759340</td>\n",
       "      <td>4/5</td>\n",
       "      <td>9</td>\n",
       "    </tr>\n",
       "    <tr>\n",
       "      <th>519156</th>\n",
       "      <td>45659003</td>\n",
       "      <td>4/5</td>\n",
       "      <td>3</td>\n",
       "    </tr>\n",
       "  </tbody>\n",
       "</table>\n",
       "</div>"
      ],
      "text/plain": [
       "              ID Doors img_index\n",
       "149176  45805062   4/5         6\n",
       "57962   45790113   4/5         1\n",
       "536     45612049   4/5         1\n",
       "440420  45759340   4/5         9\n",
       "519156  45659003   4/5         3"
      ]
     },
     "execution_count": 28,
     "metadata": {},
     "output_type": "execute_result"
    }
   ],
   "source": [
    "print('length: {}'.format(len(door_data)))\n",
    "door_data.head()"
   ]
  },
  {
   "cell_type": "markdown",
   "metadata": {},
   "source": [
    "Create balanced dataset for trianing"
   ]
  },
  {
   "cell_type": "code",
   "execution_count": 29,
   "metadata": {},
   "outputs": [
    {
     "name": "stdout",
     "output_type": "stream",
     "text": [
      "2/3: 6725, percentage: 25%\n",
      "4/5: 20000, percentage: 74%\n"
     ]
    }
   ],
   "source": [
    "door_train = pd.concat([door_data[door_data.Doors == '2/3'], door_data[door_data.Doors == '4/5'][:20000]])\n",
    "# Shuffle\n",
    "door_train = door_train.sample(frac=1)\n",
    "for col in door_train.Doors.unique():\n",
    "    length = len(door_train[door_train.Doors == col])\n",
    "    print('{}: {}, percentage: {}%'.format(col, length, int(100*length/len(door_train))))"
   ]
  },
  {
   "cell_type": "markdown",
   "metadata": {},
   "source": [
    "Generate folder containing training images"
   ]
  },
  {
   "cell_type": "code",
   "execution_count": 30,
   "metadata": {},
   "outputs": [],
   "source": [
    "door_train = generate.generate_training_folder(door_train, 'door_train_26K')\n",
    "door_train = door_train[door_train.success]\n",
    "door_train.drop(['success'], axis=1, inplace=True)"
   ]
  },
  {
   "cell_type": "code",
   "execution_count": 31,
   "metadata": {},
   "outputs": [
    {
     "name": "stdout",
     "output_type": "stream",
     "text": [
      "lenght: 26642\n"
     ]
    },
    {
     "data": {
      "text/html": [
       "<div>\n",
       "<style scoped>\n",
       "    .dataframe tbody tr th:only-of-type {\n",
       "        vertical-align: middle;\n",
       "    }\n",
       "\n",
       "    .dataframe tbody tr th {\n",
       "        vertical-align: top;\n",
       "    }\n",
       "\n",
       "    .dataframe thead th {\n",
       "        text-align: right;\n",
       "    }\n",
       "</style>\n",
       "<table border=\"1\" class=\"dataframe\">\n",
       "  <thead>\n",
       "    <tr style=\"text-align: right;\">\n",
       "      <th></th>\n",
       "      <th>ID</th>\n",
       "      <th>Doors</th>\n",
       "      <th>img_index</th>\n",
       "    </tr>\n",
       "  </thead>\n",
       "  <tbody>\n",
       "    <tr>\n",
       "      <th>290909</th>\n",
       "      <td>45785426</td>\n",
       "      <td>2/3</td>\n",
       "      <td>1</td>\n",
       "    </tr>\n",
       "    <tr>\n",
       "      <th>532008</th>\n",
       "      <td>45747012</td>\n",
       "      <td>4/5</td>\n",
       "      <td>3</td>\n",
       "    </tr>\n",
       "    <tr>\n",
       "      <th>522366</th>\n",
       "      <td>45663151</td>\n",
       "      <td>4/5</td>\n",
       "      <td>3</td>\n",
       "    </tr>\n",
       "    <tr>\n",
       "      <th>91472</th>\n",
       "      <td>45802956</td>\n",
       "      <td>4/5</td>\n",
       "      <td>9</td>\n",
       "    </tr>\n",
       "    <tr>\n",
       "      <th>147859</th>\n",
       "      <td>45805213</td>\n",
       "      <td>4/5</td>\n",
       "      <td>5</td>\n",
       "    </tr>\n",
       "  </tbody>\n",
       "</table>\n",
       "</div>"
      ],
      "text/plain": [
       "              ID Doors img_index\n",
       "290909  45785426   2/3         1\n",
       "532008  45747012   4/5         3\n",
       "522366  45663151   4/5         3\n",
       "91472   45802956   4/5         9\n",
       "147859  45805213   4/5         5"
      ]
     },
     "execution_count": 31,
     "metadata": {},
     "output_type": "execute_result"
    }
   ],
   "source": [
    "print('lenght: {}'.format(len(door_train)))\n",
    "door_train.head()"
   ]
  },
  {
   "cell_type": "markdown",
   "metadata": {},
   "source": [
    "Save dataframe to csv"
   ]
  },
  {
   "cell_type": "code",
   "execution_count": 32,
   "metadata": {},
   "outputs": [],
   "source": [
    "door_train.to_csv('door_train_26K.csv', index=False)"
   ]
  },
  {
   "cell_type": "markdown",
   "metadata": {},
   "source": [
    "# Generate data for car color prediction\n",
    "Remove useless columns"
   ]
  },
  {
   "cell_type": "code",
   "execution_count": 33,
   "metadata": {},
   "outputs": [
    {
     "name": "stdout",
     "output_type": "stream",
     "text": [
      "lenght: 209572\n"
     ]
    },
    {
     "data": {
      "text/html": [
       "<div>\n",
       "<style scoped>\n",
       "    .dataframe tbody tr th:only-of-type {\n",
       "        vertical-align: middle;\n",
       "    }\n",
       "\n",
       "    .dataframe tbody tr th {\n",
       "        vertical-align: top;\n",
       "    }\n",
       "\n",
       "    .dataframe thead th {\n",
       "        text-align: right;\n",
       "    }\n",
       "</style>\n",
       "<table border=\"1\" class=\"dataframe\">\n",
       "  <thead>\n",
       "    <tr style=\"text-align: right;\">\n",
       "      <th></th>\n",
       "      <th>ID</th>\n",
       "      <th>Color</th>\n",
       "      <th>img_index</th>\n",
       "    </tr>\n",
       "  </thead>\n",
       "  <tbody>\n",
       "    <tr>\n",
       "      <th>149176</th>\n",
       "      <td>45805062</td>\n",
       "      <td>Blue</td>\n",
       "      <td>6</td>\n",
       "    </tr>\n",
       "    <tr>\n",
       "      <th>57962</th>\n",
       "      <td>45790113</td>\n",
       "      <td>Grey</td>\n",
       "      <td>1</td>\n",
       "    </tr>\n",
       "    <tr>\n",
       "      <th>536</th>\n",
       "      <td>45612049</td>\n",
       "      <td>Grey</td>\n",
       "      <td>1</td>\n",
       "    </tr>\n",
       "    <tr>\n",
       "      <th>440420</th>\n",
       "      <td>45759340</td>\n",
       "      <td>Grey</td>\n",
       "      <td>9</td>\n",
       "    </tr>\n",
       "    <tr>\n",
       "      <th>519156</th>\n",
       "      <td>45659003</td>\n",
       "      <td>White</td>\n",
       "      <td>3</td>\n",
       "    </tr>\n",
       "  </tbody>\n",
       "</table>\n",
       "</div>"
      ],
      "text/plain": [
       "              ID  Color img_index\n",
       "149176  45805062   Blue         6\n",
       "57962   45790113   Grey         1\n",
       "536     45612049   Grey         1\n",
       "440420  45759340   Grey         9\n",
       "519156  45659003  White         3"
      ]
     },
     "execution_count": 33,
     "metadata": {},
     "output_type": "execute_result"
    }
   ],
   "source": [
    "color_data = data.drop(['Category', 'Doors'], axis=1)\n",
    "color_data.dropna(inplace=True)\n",
    "print('lenght: {}'.format(len(color_data)))\n",
    "color_data.head()"
   ]
  },
  {
   "cell_type": "code",
   "execution_count": 34,
   "metadata": {},
   "outputs": [
    {
     "name": "stdout",
     "output_type": "stream",
     "text": [
      "Blue: 16164, percentage: 7\n",
      "Grey: 29172, percentage: 13\n",
      "White: 49207, percentage: 23\n",
      "Black: 56194, percentage: 26\n",
      "Silver: 38742, percentage: 18\n",
      "Green: 3421, percentage: 1\n",
      "Yellow: 692, percentage: 0\n",
      "Golden: 1032, percentage: 0\n",
      "Orange: 1078, percentage: 0\n",
      "Purple: 231, percentage: 0\n",
      "Red: 7274, percentage: 3\n",
      "Brown: 2502, percentage: 1\n",
      "Sky blue: 972, percentage: 0\n",
      "Carnelian red: 1401, percentage: 0\n",
      "Pink: 157, percentage: 0\n",
      "Beige: 1333, percentage: 0\n"
     ]
    }
   ],
   "source": [
    "for col in color_data.Color.unique():\n",
    "    length = len(color_data[color_data.Color == col])\n",
    "    print('{}: {}, percentage: {}'.format(col, length, int(100*length/len(color_data))))"
   ]
  },
  {
   "cell_type": "markdown",
   "metadata": {},
   "source": [
    "Create balanced training data"
   ]
  },
  {
   "cell_type": "code",
   "execution_count": 35,
   "metadata": {},
   "outputs": [
    {
     "name": "stdout",
     "output_type": "stream",
     "text": [
      "Length: 33421\n",
      "Blue: 5000, percentage: 14%\n",
      "White: 5000, percentage: 14%\n",
      "Red: 5000, percentage: 14%\n",
      "Silver: 5000, percentage: 14%\n",
      "Grey: 5000, percentage: 14%\n",
      "Black: 5000, percentage: 14%\n",
      "Green: 3421, percentage: 10%\n"
     ]
    }
   ],
   "source": [
    "black = color_data[color_data.Color == 'Black'][:5000]\n",
    "blue = color_data[color_data.Color == 'Blue'][:5000]\n",
    "white = color_data[color_data.Color == 'White'][:5000]\n",
    "silver = color_data[color_data.Color == 'Silver'][:5000]\n",
    "grey = color_data[color_data.Color == 'Grey'][:5000]\n",
    "green = color_data[color_data.Color == 'Green']\n",
    "red = color_data[color_data.Color == 'Red'][:5000]\n",
    "\n",
    "color_train = pd.concat([black, blue, white, silver, grey, green, red])\n",
    "# Shuffle\n",
    "color_train = color_train.sample(frac=1)\n",
    "print('Length: {}'.format(len(color_train)))\n",
    "for col in color_train.Color.unique():\n",
    "    length = len(color_train[color_train.Color == col])\n",
    "    print('{}: {}, percentage: {}%'.format(col, length, int(100*length/len(color_train))))"
   ]
  },
  {
   "cell_type": "code",
   "execution_count": 36,
   "metadata": {},
   "outputs": [
    {
     "name": "stdout",
     "output_type": "stream",
     "text": [
      "lenght: 33326\n"
     ]
    },
    {
     "data": {
      "text/html": [
       "<div>\n",
       "<style scoped>\n",
       "    .dataframe tbody tr th:only-of-type {\n",
       "        vertical-align: middle;\n",
       "    }\n",
       "\n",
       "    .dataframe tbody tr th {\n",
       "        vertical-align: top;\n",
       "    }\n",
       "\n",
       "    .dataframe thead th {\n",
       "        text-align: right;\n",
       "    }\n",
       "</style>\n",
       "<table border=\"1\" class=\"dataframe\">\n",
       "  <thead>\n",
       "    <tr style=\"text-align: right;\">\n",
       "      <th></th>\n",
       "      <th>ID</th>\n",
       "      <th>Color</th>\n",
       "      <th>img_index</th>\n",
       "    </tr>\n",
       "  </thead>\n",
       "  <tbody>\n",
       "    <tr>\n",
       "      <th>119547</th>\n",
       "      <td>45807645</td>\n",
       "      <td>Blue</td>\n",
       "      <td>1</td>\n",
       "    </tr>\n",
       "    <tr>\n",
       "      <th>417106</th>\n",
       "      <td>45763067</td>\n",
       "      <td>Blue</td>\n",
       "      <td>10</td>\n",
       "    </tr>\n",
       "    <tr>\n",
       "      <th>269865</th>\n",
       "      <td>45788939</td>\n",
       "      <td>Blue</td>\n",
       "      <td>4</td>\n",
       "    </tr>\n",
       "    <tr>\n",
       "      <th>177000</th>\n",
       "      <td>45801298</td>\n",
       "      <td>White</td>\n",
       "      <td>6</td>\n",
       "    </tr>\n",
       "    <tr>\n",
       "      <th>107286</th>\n",
       "      <td>45733396</td>\n",
       "      <td>Blue</td>\n",
       "      <td>4</td>\n",
       "    </tr>\n",
       "  </tbody>\n",
       "</table>\n",
       "</div>"
      ],
      "text/plain": [
       "              ID  Color img_index\n",
       "119547  45807645   Blue         1\n",
       "417106  45763067   Blue        10\n",
       "269865  45788939   Blue         4\n",
       "177000  45801298  White         6\n",
       "107286  45733396   Blue         4"
      ]
     },
     "execution_count": 36,
     "metadata": {},
     "output_type": "execute_result"
    }
   ],
   "source": [
    "color_train = generate.generate_training_folder(color_train, 'color_train_33K')\n",
    "color_train = color_train[color_train.success]\n",
    "color_train.drop(['success'], axis=1, inplace=True)\n",
    "print('lenght: {}'.format(len(color_train)))\n",
    "color_train.head()"
   ]
  },
  {
   "cell_type": "markdown",
   "metadata": {},
   "source": [
    "Save dataframe to csv file"
   ]
  },
  {
   "cell_type": "code",
   "execution_count": 37,
   "metadata": {},
   "outputs": [],
   "source": [
    "color_train.to_csv('color_train_33K.csv', index=False)"
   ]
  },
  {
   "cell_type": "code",
   "execution_count": null,
   "metadata": {},
   "outputs": [],
   "source": []
  }
 ],
 "metadata": {
  "kernelspec": {
   "display_name": "Python 3",
   "language": "python",
   "name": "python3"
  },
  "language_info": {
   "codemirror_mode": {
    "name": "ipython",
    "version": 3
   },
   "file_extension": ".py",
   "mimetype": "text/x-python",
   "name": "python",
   "nbconvert_exporter": "python",
   "pygments_lexer": "ipython3",
   "version": "3.7.7"
  }
 },
 "nbformat": 4,
 "nbformat_minor": 4
}
